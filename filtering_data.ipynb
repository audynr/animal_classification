{
 "cells": [
  {
   "cell_type": "code",
   "execution_count": 3,
   "id": "c13532f0",
   "metadata": {},
   "outputs": [],
   "source": [
    "import os\n",
    "import shutil\n",
    "import random\n",
    "import pandas as pd\n",
    "from collections import defaultdict"
   ]
  },
  {
   "cell_type": "code",
   "execution_count": 4,
   "id": "a67f23c3",
   "metadata": {},
   "outputs": [
    {
     "name": "stdout",
     "output_type": "stream",
     "text": [
      "Dataset telah dibagi dan label.csv dibuat.\n"
     ]
    }
   ],
   "source": [
    "# Path asal dan tujuan\n",
    "source_dir = 'source'\n",
    "output_dir = 'data'\n",
    "splits = ['train', 'valid', 'test']\n",
    "split_ratio = (0.7, 0.15, 0.15)  # 70% train, 15% valid, 15% test\n",
    "\n",
    "# Siapkan CSV\n",
    "csv_data = []\n",
    "\n",
    "# Buat folder output\n",
    "for split in splits:\n",
    "    for class_name in os.listdir(source_dir):\n",
    "        os.makedirs(os.path.join(output_dir, split, class_name), exist_ok=True)\n",
    "\n",
    "# Proses masing-masing kelas\n",
    "for class_name in os.listdir(source_dir):\n",
    "    class_dir = os.path.join(source_dir, class_name)\n",
    "    images = os.listdir(class_dir)\n",
    "    random.shuffle(images)\n",
    "\n",
    "    total = len(images)\n",
    "    train_end = int(total * split_ratio[0])\n",
    "    valid_end = train_end + int(total * split_ratio[1])\n",
    "\n",
    "    split_files = {\n",
    "        'train': images[:train_end],\n",
    "        'valid': images[train_end:valid_end],\n",
    "        'test': images[valid_end:]\n",
    "    }\n",
    "\n",
    "    for split, files in split_files.items():\n",
    "        for file_name in files:\n",
    "            src_path = os.path.join(source_dir, class_name, file_name)\n",
    "            dst_path = os.path.join(output_dir, split, class_name, file_name)\n",
    "            shutil.copy2(src_path, dst_path)\n",
    "\n",
    "            # Tambahkan ke csv\n",
    "            relative_path = os.path.relpath(dst_path, output_dir)\n",
    "            csv_data.append({'path': relative_path, 'label': class_name})\n",
    "\n",
    "# Simpan ke CSV\n",
    "df = pd.DataFrame(csv_data)\n",
    "df.to_csv(os.path.join(output_dir, 'labels.csv'), index=False)\n",
    "\n",
    "print(\"Dataset telah dibagi dan label.csv dibuat.\")\n"
   ]
  },
  {
   "cell_type": "code",
   "execution_count": 5,
   "id": "ee313771",
   "metadata": {},
   "outputs": [
    {
     "name": "stdout",
     "output_type": "stream",
     "text": [
      "\n",
      "📁 TRAIN\n",
      "  - cat: 12180 file\n",
      "  - dog: 11722 file\n",
      "  - snake: 3852 file\n",
      "\n",
      "📁 VALID\n",
      "  - cat: 4855 file\n",
      "  - dog: 3470 file\n",
      "  - snake: 1176 file\n",
      "\n",
      "📁 TEST\n",
      "  - cat: 4827 file\n",
      "  - dog: 3470 file\n",
      "  - snake: 1168 file\n"
     ]
    }
   ],
   "source": [
    "# Path ke folder dataset\n",
    "base_dir = 'data'\n",
    "splits = ['train', 'valid', 'test']\n",
    "\n",
    "# Dictionary untuk menyimpan hasil\n",
    "count_per_split = defaultdict(lambda: defaultdict(int))\n",
    "\n",
    "for split in splits:\n",
    "    split_path = os.path.join(base_dir, split)\n",
    "    for label in os.listdir(split_path):\n",
    "        label_path = os.path.join(split_path, label)\n",
    "        if os.path.isdir(label_path):\n",
    "            total = len(os.listdir(label_path))\n",
    "            count_per_split[split][label] = total\n",
    "\n",
    "# Tampilkan hasil\n",
    "for split in splits:\n",
    "    print(f\"\\n📁 {split.upper()}\")\n",
    "    for label, count in count_per_split[split].items():\n",
    "        print(f\"  - {label}: {count} file\")\n"
   ]
  }
 ],
 "metadata": {
  "kernelspec": {
   "display_name": "Python 3",
   "language": "python",
   "name": "python3"
  },
  "language_info": {
   "codemirror_mode": {
    "name": "ipython",
    "version": 3
   },
   "file_extension": ".py",
   "mimetype": "text/x-python",
   "name": "python",
   "nbconvert_exporter": "python",
   "pygments_lexer": "ipython3",
   "version": "3.11.5"
  }
 },
 "nbformat": 4,
 "nbformat_minor": 5
}
